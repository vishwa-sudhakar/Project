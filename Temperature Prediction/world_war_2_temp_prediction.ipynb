{
 "cells": [
  {
   "cell_type": "markdown",
   "id": "comparable-driver",
   "metadata": {
    "papermill": {
     "duration": 0.01933,
     "end_time": "2021-06-14T05:15:35.054238",
     "exception": false,
     "start_time": "2021-06-14T05:15:35.034908",
     "status": "completed"
    },
    "tags": []
   },
   "source": [
    "# Simple linear regression on World war 2(Weather report)"
   ]
  },
  {
   "cell_type": "code",
   "execution_count": 1,
   "id": "relevant-synthetic",
   "metadata": {
    "execution": {
     "iopub.execute_input": "2021-06-14T05:15:35.101698Z",
     "iopub.status.busy": "2021-06-14T05:15:35.101096Z",
     "iopub.status.idle": "2021-06-14T05:15:35.850926Z",
     "shell.execute_reply": "2021-06-14T05:15:35.850273Z",
     "shell.execute_reply.started": "2021-06-08T04:45:27.364184Z"
    },
    "papermill": {
     "duration": 0.778295,
     "end_time": "2021-06-14T05:15:35.851090",
     "exception": false,
     "start_time": "2021-06-14T05:15:35.072795",
     "status": "completed"
    },
    "tags": []
   },
   "outputs": [],
   "source": [
    "import pandas as pd\n",
    "import numpy as np\n",
    "import seaborn as sns\n",
    "import matplotlib.pyplot as plt\n",
    "%matplotlib inline"
   ]
  },
  {
   "cell_type": "markdown",
   "id": "owned-junior",
   "metadata": {
    "papermill": {
     "duration": 0.017564,
     "end_time": "2021-06-14T05:15:35.888493",
     "exception": false,
     "start_time": "2021-06-14T05:15:35.870929",
     "status": "completed"
    },
    "tags": []
   },
   "source": [
    "# Loading the data set"
   ]
  },
  {
   "cell_type": "code",
   "execution_count": 5,
   "id": "productive-schedule",
   "metadata": {
    "execution": {
     "iopub.execute_input": "2021-06-14T05:15:35.928373Z",
     "iopub.status.busy": "2021-06-14T05:15:35.927780Z",
     "iopub.status.idle": "2021-06-14T05:15:36.370706Z",
     "shell.execute_reply": "2021-06-14T05:15:36.370240Z",
     "shell.execute_reply.started": "2021-06-08T04:47:06.092137Z"
    },
    "papermill": {
     "duration": 0.464735,
     "end_time": "2021-06-14T05:15:36.370836",
     "exception": false,
     "start_time": "2021-06-14T05:15:35.906101",
     "status": "completed"
    },
    "tags": []
   },
   "outputs": [],
   "source": [
    "climate =pd.read_csv(r'C:\\Users\\HP\\Desktop\\Learning\\ML\\Data Science\\Temperature Prediction\\Summary of Weather.csv')"
   ]
  },
  {
   "cell_type": "code",
   "execution_count": 6,
   "id": "faced-shaft",
   "metadata": {
    "execution": {
     "iopub.execute_input": "2021-06-14T05:15:36.424442Z",
     "iopub.status.busy": "2021-06-14T05:15:36.423674Z",
     "iopub.status.idle": "2021-06-14T05:15:36.451573Z",
     "shell.execute_reply": "2021-06-14T05:15:36.451108Z",
     "shell.execute_reply.started": "2021-06-08T04:47:34.970188Z"
    },
    "papermill": {
     "duration": 0.062526,
     "end_time": "2021-06-14T05:15:36.451707",
     "exception": false,
     "start_time": "2021-06-14T05:15:36.389181",
     "status": "completed"
    },
    "tags": []
   },
   "outputs": [
    {
     "data": {
      "text/html": [
       "<div>\n",
       "<style scoped>\n",
       "    .dataframe tbody tr th:only-of-type {\n",
       "        vertical-align: middle;\n",
       "    }\n",
       "\n",
       "    .dataframe tbody tr th {\n",
       "        vertical-align: top;\n",
       "    }\n",
       "\n",
       "    .dataframe thead th {\n",
       "        text-align: right;\n",
       "    }\n",
       "</style>\n",
       "<table border=\"1\" class=\"dataframe\">\n",
       "  <thead>\n",
       "    <tr style=\"text-align: right;\">\n",
       "      <th></th>\n",
       "      <th>STA</th>\n",
       "      <th>Date</th>\n",
       "      <th>Precip</th>\n",
       "      <th>WindGustSpd</th>\n",
       "      <th>MaxTemp</th>\n",
       "      <th>MinTemp</th>\n",
       "      <th>MeanTemp</th>\n",
       "      <th>Snowfall</th>\n",
       "      <th>PoorWeather</th>\n",
       "      <th>YR</th>\n",
       "      <th>...</th>\n",
       "      <th>FB</th>\n",
       "      <th>FTI</th>\n",
       "      <th>ITH</th>\n",
       "      <th>PGT</th>\n",
       "      <th>TSHDSBRSGF</th>\n",
       "      <th>SD3</th>\n",
       "      <th>RHX</th>\n",
       "      <th>RHN</th>\n",
       "      <th>RVG</th>\n",
       "      <th>WTE</th>\n",
       "    </tr>\n",
       "  </thead>\n",
       "  <tbody>\n",
       "    <tr>\n",
       "      <th>0</th>\n",
       "      <td>10001</td>\n",
       "      <td>1942-7-1</td>\n",
       "      <td>1.016</td>\n",
       "      <td>NaN</td>\n",
       "      <td>25.555556</td>\n",
       "      <td>22.222222</td>\n",
       "      <td>23.888889</td>\n",
       "      <td>0.0</td>\n",
       "      <td>NaN</td>\n",
       "      <td>42</td>\n",
       "      <td>...</td>\n",
       "      <td>NaN</td>\n",
       "      <td>NaN</td>\n",
       "      <td>NaN</td>\n",
       "      <td>NaN</td>\n",
       "      <td>NaN</td>\n",
       "      <td>NaN</td>\n",
       "      <td>NaN</td>\n",
       "      <td>NaN</td>\n",
       "      <td>NaN</td>\n",
       "      <td>NaN</td>\n",
       "    </tr>\n",
       "    <tr>\n",
       "      <th>1</th>\n",
       "      <td>10001</td>\n",
       "      <td>1942-7-2</td>\n",
       "      <td>0</td>\n",
       "      <td>NaN</td>\n",
       "      <td>28.888889</td>\n",
       "      <td>21.666667</td>\n",
       "      <td>25.555556</td>\n",
       "      <td>0.0</td>\n",
       "      <td>NaN</td>\n",
       "      <td>42</td>\n",
       "      <td>...</td>\n",
       "      <td>NaN</td>\n",
       "      <td>NaN</td>\n",
       "      <td>NaN</td>\n",
       "      <td>NaN</td>\n",
       "      <td>NaN</td>\n",
       "      <td>NaN</td>\n",
       "      <td>NaN</td>\n",
       "      <td>NaN</td>\n",
       "      <td>NaN</td>\n",
       "      <td>NaN</td>\n",
       "    </tr>\n",
       "    <tr>\n",
       "      <th>2</th>\n",
       "      <td>10001</td>\n",
       "      <td>1942-7-3</td>\n",
       "      <td>2.54</td>\n",
       "      <td>NaN</td>\n",
       "      <td>26.111111</td>\n",
       "      <td>22.222222</td>\n",
       "      <td>24.444444</td>\n",
       "      <td>0.0</td>\n",
       "      <td>NaN</td>\n",
       "      <td>42</td>\n",
       "      <td>...</td>\n",
       "      <td>NaN</td>\n",
       "      <td>NaN</td>\n",
       "      <td>NaN</td>\n",
       "      <td>NaN</td>\n",
       "      <td>NaN</td>\n",
       "      <td>NaN</td>\n",
       "      <td>NaN</td>\n",
       "      <td>NaN</td>\n",
       "      <td>NaN</td>\n",
       "      <td>NaN</td>\n",
       "    </tr>\n",
       "    <tr>\n",
       "      <th>3</th>\n",
       "      <td>10001</td>\n",
       "      <td>1942-7-4</td>\n",
       "      <td>2.54</td>\n",
       "      <td>NaN</td>\n",
       "      <td>26.666667</td>\n",
       "      <td>22.222222</td>\n",
       "      <td>24.444444</td>\n",
       "      <td>0.0</td>\n",
       "      <td>NaN</td>\n",
       "      <td>42</td>\n",
       "      <td>...</td>\n",
       "      <td>NaN</td>\n",
       "      <td>NaN</td>\n",
       "      <td>NaN</td>\n",
       "      <td>NaN</td>\n",
       "      <td>NaN</td>\n",
       "      <td>NaN</td>\n",
       "      <td>NaN</td>\n",
       "      <td>NaN</td>\n",
       "      <td>NaN</td>\n",
       "      <td>NaN</td>\n",
       "    </tr>\n",
       "    <tr>\n",
       "      <th>4</th>\n",
       "      <td>10001</td>\n",
       "      <td>1942-7-5</td>\n",
       "      <td>0</td>\n",
       "      <td>NaN</td>\n",
       "      <td>26.666667</td>\n",
       "      <td>21.666667</td>\n",
       "      <td>24.444444</td>\n",
       "      <td>0.0</td>\n",
       "      <td>NaN</td>\n",
       "      <td>42</td>\n",
       "      <td>...</td>\n",
       "      <td>NaN</td>\n",
       "      <td>NaN</td>\n",
       "      <td>NaN</td>\n",
       "      <td>NaN</td>\n",
       "      <td>NaN</td>\n",
       "      <td>NaN</td>\n",
       "      <td>NaN</td>\n",
       "      <td>NaN</td>\n",
       "      <td>NaN</td>\n",
       "      <td>NaN</td>\n",
       "    </tr>\n",
       "  </tbody>\n",
       "</table>\n",
       "<p>5 rows × 31 columns</p>\n",
       "</div>"
      ],
      "text/plain": [
       "     STA      Date Precip  WindGustSpd    MaxTemp    MinTemp   MeanTemp  \\\n",
       "0  10001  1942-7-1  1.016          NaN  25.555556  22.222222  23.888889   \n",
       "1  10001  1942-7-2      0          NaN  28.888889  21.666667  25.555556   \n",
       "2  10001  1942-7-3   2.54          NaN  26.111111  22.222222  24.444444   \n",
       "3  10001  1942-7-4   2.54          NaN  26.666667  22.222222  24.444444   \n",
       "4  10001  1942-7-5      0          NaN  26.666667  21.666667  24.444444   \n",
       "\n",
       "  Snowfall PoorWeather  YR  ...  FB  FTI ITH  PGT  TSHDSBRSGF  SD3  RHX  RHN  \\\n",
       "0      0.0         NaN  42  ... NaN  NaN NaN  NaN         NaN  NaN  NaN  NaN   \n",
       "1      0.0         NaN  42  ... NaN  NaN NaN  NaN         NaN  NaN  NaN  NaN   \n",
       "2      0.0         NaN  42  ... NaN  NaN NaN  NaN         NaN  NaN  NaN  NaN   \n",
       "3      0.0         NaN  42  ... NaN  NaN NaN  NaN         NaN  NaN  NaN  NaN   \n",
       "4      0.0         NaN  42  ... NaN  NaN NaN  NaN         NaN  NaN  NaN  NaN   \n",
       "\n",
       "  RVG  WTE  \n",
       "0 NaN  NaN  \n",
       "1 NaN  NaN  \n",
       "2 NaN  NaN  \n",
       "3 NaN  NaN  \n",
       "4 NaN  NaN  \n",
       "\n",
       "[5 rows x 31 columns]"
      ]
     },
     "execution_count": 6,
     "metadata": {},
     "output_type": "execute_result"
    }
   ],
   "source": [
    "climate.head()"
   ]
  },
  {
   "cell_type": "markdown",
   "id": "cordless-truck",
   "metadata": {
    "papermill": {
     "duration": 0.01828,
     "end_time": "2021-06-14T05:15:36.488744",
     "exception": false,
     "start_time": "2021-06-14T05:15:36.470464",
     "status": "completed"
    },
    "tags": []
   },
   "source": [
    "# Cleaning the Dataset"
   ]
  },
  {
   "cell_type": "code",
   "execution_count": 7,
   "id": "0a8bfe47",
   "metadata": {},
   "outputs": [
    {
     "data": {
      "text/plain": [
       "array([0.0, nan, '0', '22.86', '33.02', '30.48', '2.54', '5.08', '10.16',\n",
       "       '7.62', '20.32', '15.24', '17.78', '12.7', '25.4', '27.94',\n",
       "       '43.18', '38.1', '45.72', '53.34', '58.42', '66.04', '76.2',\n",
       "       '81.28', '73.66', '63.5', '50.8', '48.26', '60.96', '55.88',\n",
       "       '35.56', '78.74', '40.64', '86.36', '83.82', '68.58', '#VALUE!',\n",
       "       10.16, 7.62, 15.24, 2.54, 5.08, 12.7], dtype=object)"
      ]
     },
     "execution_count": 7,
     "metadata": {},
     "output_type": "execute_result"
    }
   ],
   "source": [
    "climate.Snowfall.unique()"
   ]
  },
  {
   "cell_type": "code",
   "execution_count": 8,
   "id": "d0b76a61",
   "metadata": {},
   "outputs": [
    {
     "data": {
      "text/plain": [
       "['WindGustSpd',\n",
       " 'PoorWeather',\n",
       " 'DR',\n",
       " 'SPD',\n",
       " 'SND',\n",
       " 'FT',\n",
       " 'FB',\n",
       " 'FTI',\n",
       " 'ITH',\n",
       " 'PGT',\n",
       " 'TSHDSBRSGF',\n",
       " 'SD3',\n",
       " 'RHX',\n",
       " 'RHN',\n",
       " 'RVG',\n",
       " 'WTE']"
      ]
     },
     "execution_count": 8,
     "metadata": {},
     "output_type": "execute_result"
    }
   ],
   "source": [
    "nan_cols = climate.isnull().sum() / len(climate)*100 \n",
    "drop_cols = nan_cols[nan_cols>=50].index.to_list()\n",
    "drop_cols"
   ]
  },
  {
   "cell_type": "code",
   "execution_count": 9,
   "id": "annoying-chuck",
   "metadata": {
    "execution": {
     "iopub.execute_input": "2021-06-14T05:15:36.534470Z",
     "iopub.status.busy": "2021-06-14T05:15:36.533561Z",
     "iopub.status.idle": "2021-06-14T05:15:36.535865Z",
     "shell.execute_reply": "2021-06-14T05:15:36.536338Z",
     "shell.execute_reply.started": "2021-06-08T04:47:47.355924Z"
    },
    "papermill": {
     "duration": 0.029291,
     "end_time": "2021-06-14T05:15:36.536499",
     "exception": false,
     "start_time": "2021-06-14T05:15:36.507208",
     "status": "completed"
    },
    "tags": []
   },
   "outputs": [],
   "source": [
    "climate.drop(drop_cols,inplace=True,axis=1)"
   ]
  },
  {
   "cell_type": "code",
   "execution_count": 10,
   "id": "specific-symbol",
   "metadata": {
    "execution": {
     "iopub.execute_input": "2021-06-14T05:15:36.576735Z",
     "iopub.status.busy": "2021-06-14T05:15:36.575812Z",
     "iopub.status.idle": "2021-06-14T05:15:36.584690Z",
     "shell.execute_reply": "2021-06-14T05:15:36.585098Z",
     "shell.execute_reply.started": "2021-06-08T04:47:52.279107Z"
    },
    "papermill": {
     "duration": 0.030263,
     "end_time": "2021-06-14T05:15:36.585272",
     "exception": false,
     "start_time": "2021-06-14T05:15:36.555009",
     "status": "completed"
    },
    "tags": []
   },
   "outputs": [],
   "source": [
    "nan_cols = climate.isnull().sum() / len(climate)*100\n",
    "nan_cols = nan_cols.index.to_list()"
   ]
  },
  {
   "cell_type": "code",
   "execution_count": 11,
   "id": "35e7cb61",
   "metadata": {},
   "outputs": [
    {
     "data": {
      "text/plain": [
       "['Date', 'Precip', 'Snowfall', 'PRCP', 'SNF']"
      ]
     },
     "execution_count": 11,
     "metadata": {},
     "output_type": "execute_result"
    }
   ],
   "source": [
    "obj_cols = climate.select_dtypes('object').columns.to_list()\n",
    "obj_cols"
   ]
  },
  {
   "cell_type": "code",
   "execution_count": 12,
   "id": "65305c7b",
   "metadata": {},
   "outputs": [],
   "source": [
    "obj_cols.remove('Date')"
   ]
  },
  {
   "cell_type": "code",
   "execution_count": 13,
   "id": "72eb4a53",
   "metadata": {},
   "outputs": [
    {
     "data": {
      "text/plain": [
       "['Precip', 'Snowfall', 'PRCP', 'SNF']"
      ]
     },
     "execution_count": 13,
     "metadata": {},
     "output_type": "execute_result"
    }
   ],
   "source": [
    "obj_cols"
   ]
  },
  {
   "cell_type": "code",
   "execution_count": 14,
   "id": "d5fdd51a",
   "metadata": {},
   "outputs": [],
   "source": [
    "climate[obj_cols] = climate[obj_cols].apply(pd.to_numeric, errors='coerce')"
   ]
  },
  {
   "cell_type": "code",
   "execution_count": 15,
   "id": "e0347ab6",
   "metadata": {},
   "outputs": [],
   "source": [
    "climate.Date = pd.to_datetime(climate.Date)"
   ]
  },
  {
   "cell_type": "code",
   "execution_count": 16,
   "id": "0c154285",
   "metadata": {},
   "outputs": [
    {
     "name": "stderr",
     "output_type": "stream",
     "text": [
      "C:\\Users\\HP\\AppData\\Local\\Temp/ipykernel_19968/3254575839.py:1: FutureWarning: DataFrame.mean and DataFrame.median with numeric_only=None will include datetime64 and datetime64tz columns in a future version.\n",
      "  climate.fillna(climate.mean(),inplace=True)\n"
     ]
    }
   ],
   "source": [
    "climate.fillna(climate.mean(),inplace=True)"
   ]
  },
  {
   "cell_type": "code",
   "execution_count": 17,
   "id": "ae10e95d",
   "metadata": {},
   "outputs": [
    {
     "name": "stderr",
     "output_type": "stream",
     "text": [
      "C:\\Users\\HP\\AppData\\Local\\Temp/ipykernel_19968/1969335519.py:4: FutureWarning: Series.dt.weekofyear and Series.dt.week have been deprecated.  Please use Series.dt.isocalendar().week instead.\n",
      "  climate['week'] = climate.Date.dt.week\n"
     ]
    }
   ],
   "source": [
    "climate['year'] = climate.Date.dt.year\n",
    "climate['quarter'] = climate.Date.dt.quarter\n",
    "climate['month'] = climate.Date.dt.month\n",
    "climate['week'] = climate.Date.dt.week\n",
    "climate['day'] = climate.Date.dt.day"
   ]
  },
  {
   "cell_type": "code",
   "execution_count": 18,
   "id": "76559e8a",
   "metadata": {},
   "outputs": [
    {
     "data": {
      "text/html": [
       "<div>\n",
       "<style scoped>\n",
       "    .dataframe tbody tr th:only-of-type {\n",
       "        vertical-align: middle;\n",
       "    }\n",
       "\n",
       "    .dataframe tbody tr th {\n",
       "        vertical-align: top;\n",
       "    }\n",
       "\n",
       "    .dataframe thead th {\n",
       "        text-align: right;\n",
       "    }\n",
       "</style>\n",
       "<table border=\"1\" class=\"dataframe\">\n",
       "  <thead>\n",
       "    <tr style=\"text-align: right;\">\n",
       "      <th></th>\n",
       "      <th>STA</th>\n",
       "      <th>Precip</th>\n",
       "      <th>MaxTemp</th>\n",
       "      <th>MinTemp</th>\n",
       "      <th>MeanTemp</th>\n",
       "      <th>Snowfall</th>\n",
       "      <th>YR</th>\n",
       "      <th>MO</th>\n",
       "      <th>DA</th>\n",
       "      <th>PRCP</th>\n",
       "      <th>MAX</th>\n",
       "      <th>MIN</th>\n",
       "      <th>MEA</th>\n",
       "      <th>SNF</th>\n",
       "      <th>year</th>\n",
       "      <th>quarter</th>\n",
       "      <th>month</th>\n",
       "      <th>week</th>\n",
       "      <th>day</th>\n",
       "    </tr>\n",
       "  </thead>\n",
       "  <tbody>\n",
       "    <tr>\n",
       "      <th>STA</th>\n",
       "      <td>1.000000</td>\n",
       "      <td>0.012274</td>\n",
       "      <td>0.092371</td>\n",
       "      <td>0.059319</td>\n",
       "      <td>0.078112</td>\n",
       "      <td>-0.058259</td>\n",
       "      <td>0.121408</td>\n",
       "      <td>-0.008592</td>\n",
       "      <td>0.000903</td>\n",
       "      <td>0.012229</td>\n",
       "      <td>0.083798</td>\n",
       "      <td>0.050715</td>\n",
       "      <td>0.069647</td>\n",
       "      <td>-0.058259</td>\n",
       "      <td>0.121408</td>\n",
       "      <td>-0.009250</td>\n",
       "      <td>-0.008592</td>\n",
       "      <td>-0.008626</td>\n",
       "      <td>0.000903</td>\n",
       "    </tr>\n",
       "    <tr>\n",
       "      <th>Precip</th>\n",
       "      <td>0.012274</td>\n",
       "      <td>1.000000</td>\n",
       "      <td>-0.002804</td>\n",
       "      <td>0.089561</td>\n",
       "      <td>0.043855</td>\n",
       "      <td>-0.009683</td>\n",
       "      <td>0.003927</td>\n",
       "      <td>0.038246</td>\n",
       "      <td>0.000751</td>\n",
       "      <td>0.998986</td>\n",
       "      <td>-0.003676</td>\n",
       "      <td>0.092629</td>\n",
       "      <td>0.045437</td>\n",
       "      <td>-0.009683</td>\n",
       "      <td>0.003927</td>\n",
       "      <td>0.038942</td>\n",
       "      <td>0.038246</td>\n",
       "      <td>0.038884</td>\n",
       "      <td>0.000751</td>\n",
       "    </tr>\n",
       "    <tr>\n",
       "      <th>MaxTemp</th>\n",
       "      <td>0.092371</td>\n",
       "      <td>-0.002804</td>\n",
       "      <td>1.000000</td>\n",
       "      <td>0.878384</td>\n",
       "      <td>0.969048</td>\n",
       "      <td>-0.324361</td>\n",
       "      <td>0.039585</td>\n",
       "      <td>0.031346</td>\n",
       "      <td>-0.005130</td>\n",
       "      <td>-0.006097</td>\n",
       "      <td>0.945683</td>\n",
       "      <td>0.826363</td>\n",
       "      <td>0.915625</td>\n",
       "      <td>-0.324361</td>\n",
       "      <td>0.039585</td>\n",
       "      <td>0.034058</td>\n",
       "      <td>0.031346</td>\n",
       "      <td>0.028924</td>\n",
       "      <td>-0.005130</td>\n",
       "    </tr>\n",
       "    <tr>\n",
       "      <th>MinTemp</th>\n",
       "      <td>0.059319</td>\n",
       "      <td>0.089561</td>\n",
       "      <td>0.878384</td>\n",
       "      <td>1.000000</td>\n",
       "      <td>0.965425</td>\n",
       "      <td>-0.309966</td>\n",
       "      <td>-0.020733</td>\n",
       "      <td>0.069078</td>\n",
       "      <td>-0.002576</td>\n",
       "      <td>0.087427</td>\n",
       "      <td>0.841824</td>\n",
       "      <td>0.963390</td>\n",
       "      <td>0.931191</td>\n",
       "      <td>-0.309966</td>\n",
       "      <td>-0.020733</td>\n",
       "      <td>0.071882</td>\n",
       "      <td>0.069078</td>\n",
       "      <td>0.066953</td>\n",
       "      <td>-0.002576</td>\n",
       "    </tr>\n",
       "    <tr>\n",
       "      <th>MeanTemp</th>\n",
       "      <td>0.078112</td>\n",
       "      <td>0.043855</td>\n",
       "      <td>0.969048</td>\n",
       "      <td>0.965425</td>\n",
       "      <td>1.000000</td>\n",
       "      <td>-0.325965</td>\n",
       "      <td>0.010681</td>\n",
       "      <td>0.050769</td>\n",
       "      <td>-0.004153</td>\n",
       "      <td>0.040976</td>\n",
       "      <td>0.919436</td>\n",
       "      <td>0.917804</td>\n",
       "      <td>0.949449</td>\n",
       "      <td>-0.325965</td>\n",
       "      <td>0.010681</td>\n",
       "      <td>0.053577</td>\n",
       "      <td>0.050769</td>\n",
       "      <td>0.048420</td>\n",
       "      <td>-0.004153</td>\n",
       "    </tr>\n",
       "    <tr>\n",
       "      <th>Snowfall</th>\n",
       "      <td>-0.058259</td>\n",
       "      <td>-0.009683</td>\n",
       "      <td>-0.324361</td>\n",
       "      <td>-0.309966</td>\n",
       "      <td>-0.325965</td>\n",
       "      <td>1.000000</td>\n",
       "      <td>-0.000885</td>\n",
       "      <td>-0.044750</td>\n",
       "      <td>-0.000270</td>\n",
       "      <td>-0.010122</td>\n",
       "      <td>-0.342709</td>\n",
       "      <td>-0.321490</td>\n",
       "      <td>-0.343148</td>\n",
       "      <td>1.000000</td>\n",
       "      <td>-0.000885</td>\n",
       "      <td>-0.046531</td>\n",
       "      <td>-0.044750</td>\n",
       "      <td>-0.044202</td>\n",
       "      <td>-0.000270</td>\n",
       "    </tr>\n",
       "    <tr>\n",
       "      <th>YR</th>\n",
       "      <td>0.121408</td>\n",
       "      <td>0.003927</td>\n",
       "      <td>0.039585</td>\n",
       "      <td>-0.020733</td>\n",
       "      <td>0.010681</td>\n",
       "      <td>-0.000885</td>\n",
       "      <td>1.000000</td>\n",
       "      <td>-0.144360</td>\n",
       "      <td>-0.011196</td>\n",
       "      <td>0.000951</td>\n",
       "      <td>0.013915</td>\n",
       "      <td>-0.043109</td>\n",
       "      <td>-0.014646</td>\n",
       "      <td>-0.000885</td>\n",
       "      <td>1.000000</td>\n",
       "      <td>-0.141014</td>\n",
       "      <td>-0.144360</td>\n",
       "      <td>-0.146500</td>\n",
       "      <td>-0.011196</td>\n",
       "    </tr>\n",
       "    <tr>\n",
       "      <th>MO</th>\n",
       "      <td>-0.008592</td>\n",
       "      <td>0.038246</td>\n",
       "      <td>0.031346</td>\n",
       "      <td>0.069078</td>\n",
       "      <td>0.050769</td>\n",
       "      <td>-0.044750</td>\n",
       "      <td>-0.144360</td>\n",
       "      <td>1.000000</td>\n",
       "      <td>0.006563</td>\n",
       "      <td>0.037506</td>\n",
       "      <td>0.034269</td>\n",
       "      <td>0.072338</td>\n",
       "      <td>0.054747</td>\n",
       "      <td>-0.044750</td>\n",
       "      <td>-0.144360</td>\n",
       "      <td>0.971083</td>\n",
       "      <td>1.000000</td>\n",
       "      <td>0.974278</td>\n",
       "      <td>0.006563</td>\n",
       "    </tr>\n",
       "    <tr>\n",
       "      <th>DA</th>\n",
       "      <td>0.000903</td>\n",
       "      <td>0.000751</td>\n",
       "      <td>-0.005130</td>\n",
       "      <td>-0.002576</td>\n",
       "      <td>-0.004153</td>\n",
       "      <td>-0.000270</td>\n",
       "      <td>-0.011196</td>\n",
       "      <td>0.006563</td>\n",
       "      <td>1.000000</td>\n",
       "      <td>0.000998</td>\n",
       "      <td>-0.003292</td>\n",
       "      <td>-0.000738</td>\n",
       "      <td>-0.002090</td>\n",
       "      <td>-0.000270</td>\n",
       "      <td>-0.011196</td>\n",
       "      <td>0.008982</td>\n",
       "      <td>0.006563</td>\n",
       "      <td>0.067935</td>\n",
       "      <td>1.000000</td>\n",
       "    </tr>\n",
       "    <tr>\n",
       "      <th>PRCP</th>\n",
       "      <td>0.012229</td>\n",
       "      <td>0.998986</td>\n",
       "      <td>-0.006097</td>\n",
       "      <td>0.087427</td>\n",
       "      <td>0.040976</td>\n",
       "      <td>-0.010122</td>\n",
       "      <td>0.000951</td>\n",
       "      <td>0.037506</td>\n",
       "      <td>0.000998</td>\n",
       "      <td>1.000000</td>\n",
       "      <td>-0.007258</td>\n",
       "      <td>0.090427</td>\n",
       "      <td>0.042442</td>\n",
       "      <td>-0.010122</td>\n",
       "      <td>0.000951</td>\n",
       "      <td>0.038259</td>\n",
       "      <td>0.037506</td>\n",
       "      <td>0.038215</td>\n",
       "      <td>0.000998</td>\n",
       "    </tr>\n",
       "    <tr>\n",
       "      <th>MAX</th>\n",
       "      <td>0.083798</td>\n",
       "      <td>-0.003676</td>\n",
       "      <td>0.945683</td>\n",
       "      <td>0.841824</td>\n",
       "      <td>0.919436</td>\n",
       "      <td>-0.342709</td>\n",
       "      <td>0.013915</td>\n",
       "      <td>0.034269</td>\n",
       "      <td>-0.003292</td>\n",
       "      <td>-0.007258</td>\n",
       "      <td>1.000000</td>\n",
       "      <td>0.873670</td>\n",
       "      <td>0.968215</td>\n",
       "      <td>-0.342709</td>\n",
       "      <td>0.013915</td>\n",
       "      <td>0.037873</td>\n",
       "      <td>0.034269</td>\n",
       "      <td>0.031589</td>\n",
       "      <td>-0.003292</td>\n",
       "    </tr>\n",
       "    <tr>\n",
       "      <th>MIN</th>\n",
       "      <td>0.050715</td>\n",
       "      <td>0.092629</td>\n",
       "      <td>0.826363</td>\n",
       "      <td>0.963390</td>\n",
       "      <td>0.917804</td>\n",
       "      <td>-0.321490</td>\n",
       "      <td>-0.043109</td>\n",
       "      <td>0.072338</td>\n",
       "      <td>-0.000738</td>\n",
       "      <td>0.090427</td>\n",
       "      <td>0.873670</td>\n",
       "      <td>1.000000</td>\n",
       "      <td>0.966584</td>\n",
       "      <td>-0.321490</td>\n",
       "      <td>-0.043109</td>\n",
       "      <td>0.075670</td>\n",
       "      <td>0.072338</td>\n",
       "      <td>0.070027</td>\n",
       "      <td>-0.000738</td>\n",
       "    </tr>\n",
       "    <tr>\n",
       "      <th>MEA</th>\n",
       "      <td>0.069647</td>\n",
       "      <td>0.045437</td>\n",
       "      <td>0.915625</td>\n",
       "      <td>0.931191</td>\n",
       "      <td>0.949449</td>\n",
       "      <td>-0.343148</td>\n",
       "      <td>-0.014646</td>\n",
       "      <td>0.054747</td>\n",
       "      <td>-0.002090</td>\n",
       "      <td>0.042442</td>\n",
       "      <td>0.968215</td>\n",
       "      <td>0.966584</td>\n",
       "      <td>1.000000</td>\n",
       "      <td>-0.343148</td>\n",
       "      <td>-0.014646</td>\n",
       "      <td>0.058340</td>\n",
       "      <td>0.054747</td>\n",
       "      <td>0.052183</td>\n",
       "      <td>-0.002090</td>\n",
       "    </tr>\n",
       "    <tr>\n",
       "      <th>SNF</th>\n",
       "      <td>-0.058259</td>\n",
       "      <td>-0.009683</td>\n",
       "      <td>-0.324361</td>\n",
       "      <td>-0.309966</td>\n",
       "      <td>-0.325965</td>\n",
       "      <td>1.000000</td>\n",
       "      <td>-0.000885</td>\n",
       "      <td>-0.044750</td>\n",
       "      <td>-0.000270</td>\n",
       "      <td>-0.010122</td>\n",
       "      <td>-0.342709</td>\n",
       "      <td>-0.321490</td>\n",
       "      <td>-0.343148</td>\n",
       "      <td>1.000000</td>\n",
       "      <td>-0.000885</td>\n",
       "      <td>-0.046531</td>\n",
       "      <td>-0.044750</td>\n",
       "      <td>-0.044202</td>\n",
       "      <td>-0.000270</td>\n",
       "    </tr>\n",
       "    <tr>\n",
       "      <th>year</th>\n",
       "      <td>0.121408</td>\n",
       "      <td>0.003927</td>\n",
       "      <td>0.039585</td>\n",
       "      <td>-0.020733</td>\n",
       "      <td>0.010681</td>\n",
       "      <td>-0.000885</td>\n",
       "      <td>1.000000</td>\n",
       "      <td>-0.144360</td>\n",
       "      <td>-0.011196</td>\n",
       "      <td>0.000951</td>\n",
       "      <td>0.013915</td>\n",
       "      <td>-0.043109</td>\n",
       "      <td>-0.014646</td>\n",
       "      <td>-0.000885</td>\n",
       "      <td>1.000000</td>\n",
       "      <td>-0.141014</td>\n",
       "      <td>-0.144360</td>\n",
       "      <td>-0.146500</td>\n",
       "      <td>-0.011196</td>\n",
       "    </tr>\n",
       "    <tr>\n",
       "      <th>quarter</th>\n",
       "      <td>-0.009250</td>\n",
       "      <td>0.038942</td>\n",
       "      <td>0.034058</td>\n",
       "      <td>0.071882</td>\n",
       "      <td>0.053577</td>\n",
       "      <td>-0.046531</td>\n",
       "      <td>-0.141014</td>\n",
       "      <td>0.971083</td>\n",
       "      <td>0.008982</td>\n",
       "      <td>0.038259</td>\n",
       "      <td>0.037873</td>\n",
       "      <td>0.075670</td>\n",
       "      <td>0.058340</td>\n",
       "      <td>-0.046531</td>\n",
       "      <td>-0.141014</td>\n",
       "      <td>1.000000</td>\n",
       "      <td>0.971083</td>\n",
       "      <td>0.949248</td>\n",
       "      <td>0.008982</td>\n",
       "    </tr>\n",
       "    <tr>\n",
       "      <th>month</th>\n",
       "      <td>-0.008592</td>\n",
       "      <td>0.038246</td>\n",
       "      <td>0.031346</td>\n",
       "      <td>0.069078</td>\n",
       "      <td>0.050769</td>\n",
       "      <td>-0.044750</td>\n",
       "      <td>-0.144360</td>\n",
       "      <td>1.000000</td>\n",
       "      <td>0.006563</td>\n",
       "      <td>0.037506</td>\n",
       "      <td>0.034269</td>\n",
       "      <td>0.072338</td>\n",
       "      <td>0.054747</td>\n",
       "      <td>-0.044750</td>\n",
       "      <td>-0.144360</td>\n",
       "      <td>0.971083</td>\n",
       "      <td>1.000000</td>\n",
       "      <td>0.974278</td>\n",
       "      <td>0.006563</td>\n",
       "    </tr>\n",
       "    <tr>\n",
       "      <th>week</th>\n",
       "      <td>-0.008626</td>\n",
       "      <td>0.038884</td>\n",
       "      <td>0.028924</td>\n",
       "      <td>0.066953</td>\n",
       "      <td>0.048420</td>\n",
       "      <td>-0.044202</td>\n",
       "      <td>-0.146500</td>\n",
       "      <td>0.974278</td>\n",
       "      <td>0.067935</td>\n",
       "      <td>0.038215</td>\n",
       "      <td>0.031589</td>\n",
       "      <td>0.070027</td>\n",
       "      <td>0.052183</td>\n",
       "      <td>-0.044202</td>\n",
       "      <td>-0.146500</td>\n",
       "      <td>0.949248</td>\n",
       "      <td>0.974278</td>\n",
       "      <td>1.000000</td>\n",
       "      <td>0.067935</td>\n",
       "    </tr>\n",
       "    <tr>\n",
       "      <th>day</th>\n",
       "      <td>0.000903</td>\n",
       "      <td>0.000751</td>\n",
       "      <td>-0.005130</td>\n",
       "      <td>-0.002576</td>\n",
       "      <td>-0.004153</td>\n",
       "      <td>-0.000270</td>\n",
       "      <td>-0.011196</td>\n",
       "      <td>0.006563</td>\n",
       "      <td>1.000000</td>\n",
       "      <td>0.000998</td>\n",
       "      <td>-0.003292</td>\n",
       "      <td>-0.000738</td>\n",
       "      <td>-0.002090</td>\n",
       "      <td>-0.000270</td>\n",
       "      <td>-0.011196</td>\n",
       "      <td>0.008982</td>\n",
       "      <td>0.006563</td>\n",
       "      <td>0.067935</td>\n",
       "      <td>1.000000</td>\n",
       "    </tr>\n",
       "  </tbody>\n",
       "</table>\n",
       "</div>"
      ],
      "text/plain": [
       "               STA    Precip   MaxTemp   MinTemp  MeanTemp  Snowfall  \\\n",
       "STA       1.000000  0.012274  0.092371  0.059319  0.078112 -0.058259   \n",
       "Precip    0.012274  1.000000 -0.002804  0.089561  0.043855 -0.009683   \n",
       "MaxTemp   0.092371 -0.002804  1.000000  0.878384  0.969048 -0.324361   \n",
       "MinTemp   0.059319  0.089561  0.878384  1.000000  0.965425 -0.309966   \n",
       "MeanTemp  0.078112  0.043855  0.969048  0.965425  1.000000 -0.325965   \n",
       "Snowfall -0.058259 -0.009683 -0.324361 -0.309966 -0.325965  1.000000   \n",
       "YR        0.121408  0.003927  0.039585 -0.020733  0.010681 -0.000885   \n",
       "MO       -0.008592  0.038246  0.031346  0.069078  0.050769 -0.044750   \n",
       "DA        0.000903  0.000751 -0.005130 -0.002576 -0.004153 -0.000270   \n",
       "PRCP      0.012229  0.998986 -0.006097  0.087427  0.040976 -0.010122   \n",
       "MAX       0.083798 -0.003676  0.945683  0.841824  0.919436 -0.342709   \n",
       "MIN       0.050715  0.092629  0.826363  0.963390  0.917804 -0.321490   \n",
       "MEA       0.069647  0.045437  0.915625  0.931191  0.949449 -0.343148   \n",
       "SNF      -0.058259 -0.009683 -0.324361 -0.309966 -0.325965  1.000000   \n",
       "year      0.121408  0.003927  0.039585 -0.020733  0.010681 -0.000885   \n",
       "quarter  -0.009250  0.038942  0.034058  0.071882  0.053577 -0.046531   \n",
       "month    -0.008592  0.038246  0.031346  0.069078  0.050769 -0.044750   \n",
       "week     -0.008626  0.038884  0.028924  0.066953  0.048420 -0.044202   \n",
       "day       0.000903  0.000751 -0.005130 -0.002576 -0.004153 -0.000270   \n",
       "\n",
       "                YR        MO        DA      PRCP       MAX       MIN  \\\n",
       "STA       0.121408 -0.008592  0.000903  0.012229  0.083798  0.050715   \n",
       "Precip    0.003927  0.038246  0.000751  0.998986 -0.003676  0.092629   \n",
       "MaxTemp   0.039585  0.031346 -0.005130 -0.006097  0.945683  0.826363   \n",
       "MinTemp  -0.020733  0.069078 -0.002576  0.087427  0.841824  0.963390   \n",
       "MeanTemp  0.010681  0.050769 -0.004153  0.040976  0.919436  0.917804   \n",
       "Snowfall -0.000885 -0.044750 -0.000270 -0.010122 -0.342709 -0.321490   \n",
       "YR        1.000000 -0.144360 -0.011196  0.000951  0.013915 -0.043109   \n",
       "MO       -0.144360  1.000000  0.006563  0.037506  0.034269  0.072338   \n",
       "DA       -0.011196  0.006563  1.000000  0.000998 -0.003292 -0.000738   \n",
       "PRCP      0.000951  0.037506  0.000998  1.000000 -0.007258  0.090427   \n",
       "MAX       0.013915  0.034269 -0.003292 -0.007258  1.000000  0.873670   \n",
       "MIN      -0.043109  0.072338 -0.000738  0.090427  0.873670  1.000000   \n",
       "MEA      -0.014646  0.054747 -0.002090  0.042442  0.968215  0.966584   \n",
       "SNF      -0.000885 -0.044750 -0.000270 -0.010122 -0.342709 -0.321490   \n",
       "year      1.000000 -0.144360 -0.011196  0.000951  0.013915 -0.043109   \n",
       "quarter  -0.141014  0.971083  0.008982  0.038259  0.037873  0.075670   \n",
       "month    -0.144360  1.000000  0.006563  0.037506  0.034269  0.072338   \n",
       "week     -0.146500  0.974278  0.067935  0.038215  0.031589  0.070027   \n",
       "day      -0.011196  0.006563  1.000000  0.000998 -0.003292 -0.000738   \n",
       "\n",
       "               MEA       SNF      year   quarter     month      week       day  \n",
       "STA       0.069647 -0.058259  0.121408 -0.009250 -0.008592 -0.008626  0.000903  \n",
       "Precip    0.045437 -0.009683  0.003927  0.038942  0.038246  0.038884  0.000751  \n",
       "MaxTemp   0.915625 -0.324361  0.039585  0.034058  0.031346  0.028924 -0.005130  \n",
       "MinTemp   0.931191 -0.309966 -0.020733  0.071882  0.069078  0.066953 -0.002576  \n",
       "MeanTemp  0.949449 -0.325965  0.010681  0.053577  0.050769  0.048420 -0.004153  \n",
       "Snowfall -0.343148  1.000000 -0.000885 -0.046531 -0.044750 -0.044202 -0.000270  \n",
       "YR       -0.014646 -0.000885  1.000000 -0.141014 -0.144360 -0.146500 -0.011196  \n",
       "MO        0.054747 -0.044750 -0.144360  0.971083  1.000000  0.974278  0.006563  \n",
       "DA       -0.002090 -0.000270 -0.011196  0.008982  0.006563  0.067935  1.000000  \n",
       "PRCP      0.042442 -0.010122  0.000951  0.038259  0.037506  0.038215  0.000998  \n",
       "MAX       0.968215 -0.342709  0.013915  0.037873  0.034269  0.031589 -0.003292  \n",
       "MIN       0.966584 -0.321490 -0.043109  0.075670  0.072338  0.070027 -0.000738  \n",
       "MEA       1.000000 -0.343148 -0.014646  0.058340  0.054747  0.052183 -0.002090  \n",
       "SNF      -0.343148  1.000000 -0.000885 -0.046531 -0.044750 -0.044202 -0.000270  \n",
       "year     -0.014646 -0.000885  1.000000 -0.141014 -0.144360 -0.146500 -0.011196  \n",
       "quarter   0.058340 -0.046531 -0.141014  1.000000  0.971083  0.949248  0.008982  \n",
       "month     0.054747 -0.044750 -0.144360  0.971083  1.000000  0.974278  0.006563  \n",
       "week      0.052183 -0.044202 -0.146500  0.949248  0.974278  1.000000  0.067935  \n",
       "day      -0.002090 -0.000270 -0.011196  0.008982  0.006563  0.067935  1.000000  "
      ]
     },
     "execution_count": 18,
     "metadata": {},
     "output_type": "execute_result"
    }
   ],
   "source": [
    "# climate.corr()[(abs(climate.corr()) > 0.8)]\n",
    "climate.corr()"
   ]
  },
  {
   "cell_type": "code",
   "execution_count": 19,
   "id": "requested-particular",
   "metadata": {
    "execution": {
     "iopub.execute_input": "2021-06-14T05:15:36.628137Z",
     "iopub.status.busy": "2021-06-14T05:15:36.627289Z",
     "iopub.status.idle": "2021-06-14T05:15:36.654115Z",
     "shell.execute_reply": "2021-06-14T05:15:36.653678Z",
     "shell.execute_reply.started": "2021-06-08T04:47:58.518379Z"
    },
    "papermill": {
     "duration": 0.049886,
     "end_time": "2021-06-14T05:15:36.654244",
     "exception": false,
     "start_time": "2021-06-14T05:15:36.604358",
     "status": "completed"
    },
    "tags": []
   },
   "outputs": [],
   "source": [
    "climate.drop(columns=['MAX','MIN','MEA','PRCP','Date'],inplace=True)"
   ]
  },
  {
   "cell_type": "code",
   "execution_count": 20,
   "id": "every-indian",
   "metadata": {
    "execution": {
     "iopub.execute_input": "2021-06-14T05:15:36.698408Z",
     "iopub.status.busy": "2021-06-14T05:15:36.697837Z",
     "iopub.status.idle": "2021-06-14T05:15:36.700122Z",
     "shell.execute_reply": "2021-06-14T05:15:36.700624Z",
     "shell.execute_reply.started": "2021-06-08T04:48:06.558227Z"
    },
    "papermill": {
     "duration": 0.027132,
     "end_time": "2021-06-14T05:15:36.700777",
     "exception": false,
     "start_time": "2021-06-14T05:15:36.673645",
     "status": "completed"
    },
    "tags": []
   },
   "outputs": [
    {
     "data": {
      "text/plain": [
       "STA           int64\n",
       "Precip      float64\n",
       "MaxTemp     float64\n",
       "MinTemp     float64\n",
       "MeanTemp    float64\n",
       "Snowfall    float64\n",
       "YR            int64\n",
       "MO            int64\n",
       "DA            int64\n",
       "SNF         float64\n",
       "year          int64\n",
       "quarter       int64\n",
       "month         int64\n",
       "week          int64\n",
       "day           int64\n",
       "dtype: object"
      ]
     },
     "execution_count": 20,
     "metadata": {},
     "output_type": "execute_result"
    }
   ],
   "source": [
    "climate.dtypes"
   ]
  },
  {
   "cell_type": "code",
   "execution_count": 21,
   "id": "animal-bread",
   "metadata": {
    "execution": {
     "iopub.execute_input": "2021-06-14T05:15:36.899729Z",
     "iopub.status.busy": "2021-06-14T05:15:36.898875Z",
     "iopub.status.idle": "2021-06-14T05:15:36.924660Z",
     "shell.execute_reply": "2021-06-14T05:15:36.925107Z",
     "shell.execute_reply.started": "2021-06-08T04:48:24.957972Z"
    },
    "papermill": {
     "duration": 0.048485,
     "end_time": "2021-06-14T05:15:36.925261",
     "exception": false,
     "start_time": "2021-06-14T05:15:36.876776",
     "status": "completed"
    },
    "tags": []
   },
   "outputs": [
    {
     "name": "stdout",
     "output_type": "stream",
     "text": [
      "<class 'pandas.core.frame.DataFrame'>\n",
      "RangeIndex: 119040 entries, 0 to 119039\n",
      "Data columns (total 15 columns):\n",
      " #   Column    Non-Null Count   Dtype  \n",
      "---  ------    --------------   -----  \n",
      " 0   STA       119040 non-null  int64  \n",
      " 1   Precip    119040 non-null  float64\n",
      " 2   MaxTemp   119040 non-null  float64\n",
      " 3   MinTemp   119040 non-null  float64\n",
      " 4   MeanTemp  119040 non-null  float64\n",
      " 5   Snowfall  119040 non-null  float64\n",
      " 6   YR        119040 non-null  int64  \n",
      " 7   MO        119040 non-null  int64  \n",
      " 8   DA        119040 non-null  int64  \n",
      " 9   SNF       119040 non-null  float64\n",
      " 10  year      119040 non-null  int64  \n",
      " 11  quarter   119040 non-null  int64  \n",
      " 12  month     119040 non-null  int64  \n",
      " 13  week      119040 non-null  int64  \n",
      " 14  day       119040 non-null  int64  \n",
      "dtypes: float64(6), int64(9)\n",
      "memory usage: 13.6 MB\n"
     ]
    }
   ],
   "source": [
    "climate.info()"
   ]
  },
  {
   "cell_type": "code",
   "execution_count": 22,
   "id": "7cdecc4f",
   "metadata": {},
   "outputs": [
    {
     "data": {
      "text/html": [
       "<div>\n",
       "<style scoped>\n",
       "    .dataframe tbody tr th:only-of-type {\n",
       "        vertical-align: middle;\n",
       "    }\n",
       "\n",
       "    .dataframe tbody tr th {\n",
       "        vertical-align: top;\n",
       "    }\n",
       "\n",
       "    .dataframe thead th {\n",
       "        text-align: right;\n",
       "    }\n",
       "</style>\n",
       "<table border=\"1\" class=\"dataframe\">\n",
       "  <thead>\n",
       "    <tr style=\"text-align: right;\">\n",
       "      <th></th>\n",
       "      <th>STA</th>\n",
       "      <th>Precip</th>\n",
       "      <th>MaxTemp</th>\n",
       "      <th>MinTemp</th>\n",
       "      <th>MeanTemp</th>\n",
       "      <th>Snowfall</th>\n",
       "      <th>YR</th>\n",
       "      <th>MO</th>\n",
       "      <th>DA</th>\n",
       "      <th>SNF</th>\n",
       "      <th>year</th>\n",
       "      <th>quarter</th>\n",
       "      <th>month</th>\n",
       "      <th>week</th>\n",
       "      <th>day</th>\n",
       "    </tr>\n",
       "  </thead>\n",
       "  <tbody>\n",
       "    <tr>\n",
       "      <th>0</th>\n",
       "      <td>10001</td>\n",
       "      <td>1.016</td>\n",
       "      <td>25.555556</td>\n",
       "      <td>22.222222</td>\n",
       "      <td>23.888889</td>\n",
       "      <td>0.0</td>\n",
       "      <td>42</td>\n",
       "      <td>7</td>\n",
       "      <td>1</td>\n",
       "      <td>0.0</td>\n",
       "      <td>1942</td>\n",
       "      <td>3</td>\n",
       "      <td>7</td>\n",
       "      <td>27</td>\n",
       "      <td>1</td>\n",
       "    </tr>\n",
       "    <tr>\n",
       "      <th>1</th>\n",
       "      <td>10001</td>\n",
       "      <td>0.000</td>\n",
       "      <td>28.888889</td>\n",
       "      <td>21.666667</td>\n",
       "      <td>25.555556</td>\n",
       "      <td>0.0</td>\n",
       "      <td>42</td>\n",
       "      <td>7</td>\n",
       "      <td>2</td>\n",
       "      <td>0.0</td>\n",
       "      <td>1942</td>\n",
       "      <td>3</td>\n",
       "      <td>7</td>\n",
       "      <td>27</td>\n",
       "      <td>2</td>\n",
       "    </tr>\n",
       "    <tr>\n",
       "      <th>2</th>\n",
       "      <td>10001</td>\n",
       "      <td>2.540</td>\n",
       "      <td>26.111111</td>\n",
       "      <td>22.222222</td>\n",
       "      <td>24.444444</td>\n",
       "      <td>0.0</td>\n",
       "      <td>42</td>\n",
       "      <td>7</td>\n",
       "      <td>3</td>\n",
       "      <td>0.0</td>\n",
       "      <td>1942</td>\n",
       "      <td>3</td>\n",
       "      <td>7</td>\n",
       "      <td>27</td>\n",
       "      <td>3</td>\n",
       "    </tr>\n",
       "    <tr>\n",
       "      <th>3</th>\n",
       "      <td>10001</td>\n",
       "      <td>2.540</td>\n",
       "      <td>26.666667</td>\n",
       "      <td>22.222222</td>\n",
       "      <td>24.444444</td>\n",
       "      <td>0.0</td>\n",
       "      <td>42</td>\n",
       "      <td>7</td>\n",
       "      <td>4</td>\n",
       "      <td>0.0</td>\n",
       "      <td>1942</td>\n",
       "      <td>3</td>\n",
       "      <td>7</td>\n",
       "      <td>27</td>\n",
       "      <td>4</td>\n",
       "    </tr>\n",
       "    <tr>\n",
       "      <th>4</th>\n",
       "      <td>10001</td>\n",
       "      <td>0.000</td>\n",
       "      <td>26.666667</td>\n",
       "      <td>21.666667</td>\n",
       "      <td>24.444444</td>\n",
       "      <td>0.0</td>\n",
       "      <td>42</td>\n",
       "      <td>7</td>\n",
       "      <td>5</td>\n",
       "      <td>0.0</td>\n",
       "      <td>1942</td>\n",
       "      <td>3</td>\n",
       "      <td>7</td>\n",
       "      <td>27</td>\n",
       "      <td>5</td>\n",
       "    </tr>\n",
       "  </tbody>\n",
       "</table>\n",
       "</div>"
      ],
      "text/plain": [
       "     STA  Precip    MaxTemp    MinTemp   MeanTemp  Snowfall  YR  MO  DA  SNF  \\\n",
       "0  10001   1.016  25.555556  22.222222  23.888889       0.0  42   7   1  0.0   \n",
       "1  10001   0.000  28.888889  21.666667  25.555556       0.0  42   7   2  0.0   \n",
       "2  10001   2.540  26.111111  22.222222  24.444444       0.0  42   7   3  0.0   \n",
       "3  10001   2.540  26.666667  22.222222  24.444444       0.0  42   7   4  0.0   \n",
       "4  10001   0.000  26.666667  21.666667  24.444444       0.0  42   7   5  0.0   \n",
       "\n",
       "   year  quarter  month  week  day  \n",
       "0  1942        3      7    27    1  \n",
       "1  1942        3      7    27    2  \n",
       "2  1942        3      7    27    3  \n",
       "3  1942        3      7    27    4  \n",
       "4  1942        3      7    27    5  "
      ]
     },
     "execution_count": 22,
     "metadata": {},
     "output_type": "execute_result"
    }
   ],
   "source": [
    "climate.head()"
   ]
  },
  {
   "cell_type": "markdown",
   "id": "nuclear-george",
   "metadata": {
    "papermill": {
     "duration": 0.019977,
     "end_time": "2021-06-14T05:15:36.965400",
     "exception": false,
     "start_time": "2021-06-14T05:15:36.945423",
     "status": "completed"
    },
    "tags": []
   },
   "source": [
    "# Plotting "
   ]
  },
  {
   "cell_type": "markdown",
   "id": "adjustable-killer",
   "metadata": {
    "papermill": {
     "duration": 0.020202,
     "end_time": "2021-06-14T05:15:37.005604",
     "exception": false,
     "start_time": "2021-06-14T05:15:36.985402",
     "status": "completed"
    },
    "tags": []
   },
   "source": [
    "# Data visualization"
   ]
  },
  {
   "cell_type": "code",
   "execution_count": 23,
   "id": "acute-pharmaceutical",
   "metadata": {
    "execution": {
     "iopub.execute_input": "2021-06-14T05:15:37.048682Z",
     "iopub.status.busy": "2021-06-14T05:15:37.048070Z",
     "iopub.status.idle": "2021-06-14T05:15:39.097152Z",
     "shell.execute_reply": "2021-06-14T05:15:39.097537Z",
     "shell.execute_reply.started": "2021-06-08T04:48:34.854875Z"
    },
    "papermill": {
     "duration": 2.071899,
     "end_time": "2021-06-14T05:15:39.097694",
     "exception": false,
     "start_time": "2021-06-14T05:15:37.025795",
     "status": "completed"
    },
    "tags": []
   },
   "outputs": [
    {
     "data": {
      "image/png": "[encoded data removed]",
      "text/plain": [
       "<Figure size 432x288 with 1 Axes>"
      ]
     },
     "metadata": {
      "needs_background": "light"
     },
     "output_type": "display_data"
    }
   ],
   "source": [
    "sns.countplot(x = 'MaxTemp', data = climate, palette = 'magma')\n",
    "plt.title('Weather')\n",
    "plt.show()"
   ]
  },
  {
   "cell_type": "code",
   "execution_count": 24,
   "id": "corporate-frank",
   "metadata": {
    "execution": {
     "iopub.execute_input": "2021-06-14T05:15:39.144796Z",
     "iopub.status.busy": "2021-06-14T05:15:39.143867Z",
     "iopub.status.idle": "2021-06-14T05:15:54.354478Z",
     "shell.execute_reply": "2021-06-14T05:15:54.354017Z",
     "shell.execute_reply.started": "2021-06-08T04:48:38.493917Z"
    },
    "papermill": {
     "duration": 15.236259,
     "end_time": "2021-06-14T05:15:54.354608",
     "exception": false,
     "start_time": "2021-06-14T05:15:39.118349",
     "status": "completed"
    },
    "tags": []
   },
   "outputs": [
    {
     "data": {
      "text/plain": [
       "<AxesSubplot:xlabel='MaxTemp', ylabel='MinTemp'>"
      ]
     },
     "execution_count": 24,
     "metadata": {},
     "output_type": "execute_result"
    },
    {
     "data": {
      "image/png": "[encoded data removed]",
      "text/plain": [
       "<Figure size 432x288 with 1 Axes>"
      ]
     },
     "metadata": {
      "needs_background": "light"
     },
     "output_type": "display_data"
    }
   ],
   "source": [
    "sns.regplot(x=\"MaxTemp\", y=\"MinTemp\", data=climate)"
   ]
  },
  {
   "cell_type": "code",
   "execution_count": 26,
   "id": "banned-operations",
   "metadata": {
    "execution": {
     "iopub.execute_input": "2021-06-14T05:15:54.403192Z",
     "iopub.status.busy": "2021-06-14T05:15:54.402656Z",
     "iopub.status.idle": "2021-06-14T05:15:54.664993Z",
     "shell.execute_reply": "2021-06-14T05:15:54.664548Z",
     "shell.execute_reply.started": "2021-06-08T04:49:00.816654Z"
    },
    "papermill": {
     "duration": 0.287971,
     "end_time": "2021-06-14T05:15:54.665122",
     "exception": false,
     "start_time": "2021-06-14T05:15:54.377151",
     "status": "completed"
    },
    "tags": []
   },
   "outputs": [
    {
     "data": {
      "image/png": "[encoded data removed]",
      "text/plain": [
       "<Figure size 432x288 with 2 Axes>"
      ]
     },
     "metadata": {
      "needs_background": "light"
     },
     "output_type": "display_data"
    }
   ],
   "source": [
    "sns.heatmap(climate.corr());\n",
    "plt.xticks(rotation=-45);"
   ]
  },
  {
   "cell_type": "code",
   "execution_count": 27,
   "id": "planned-boards",
   "metadata": {
    "execution": {
     "iopub.execute_input": "2021-06-14T05:15:54.714642Z",
     "iopub.status.busy": "2021-06-14T05:15:54.714047Z",
     "iopub.status.idle": "2021-06-14T05:16:00.314487Z",
     "shell.execute_reply": "2021-06-14T05:16:00.314006Z",
     "shell.execute_reply.started": "2021-06-08T04:49:12.085046Z"
    },
    "papermill": {
     "duration": 5.627122,
     "end_time": "2021-06-14T05:16:00.314617",
     "exception": false,
     "start_time": "2021-06-14T05:15:54.687495",
     "status": "completed"
    },
    "tags": []
   },
   "outputs": [
    {
     "data": {
      "image/png": "[encoded data removed]",
      "text/plain": [
       "<Figure size 432x288 with 1 Axes>"
      ]
     },
     "metadata": {
      "needs_background": "light"
     },
     "output_type": "display_data"
    }
   ],
   "source": [
    "sns.pointplot(x=\"MaxTemp\", y=\"MinTemp\", data=climate)\n",
    "plt.show()"
   ]
  },
  {
   "cell_type": "code",
   "execution_count": 28,
   "id": "nominated-pendant",
   "metadata": {
    "execution": {
     "iopub.execute_input": "2021-06-14T05:16:00.365835Z",
     "iopub.status.busy": "2021-06-14T05:16:00.365281Z",
     "iopub.status.idle": "2021-06-14T05:16:02.295464Z",
     "shell.execute_reply": "2021-06-14T05:16:02.295870Z",
     "shell.execute_reply.started": "2021-06-08T04:49:38.465246Z"
    },
    "papermill": {
     "duration": 1.9582,
     "end_time": "2021-06-14T05:16:02.296039",
     "exception": false,
     "start_time": "2021-06-14T05:16:00.337839",
     "status": "completed"
    },
    "tags": []
   },
   "outputs": [
    {
     "data": {
      "text/plain": [
       "<AxesSubplot:xlabel='MaxTemp', ylabel='count'>"
      ]
     },
     "execution_count": 28,
     "metadata": {},
     "output_type": "execute_result"
    },
    {
     "data": {
      "image/png": "[encoded data removed]",
      "text/plain": [
       "<Figure size 432x288 with 1 Axes>"
      ]
     },
     "metadata": {
      "needs_background": "light"
     },
     "output_type": "display_data"
    }
   ],
   "source": [
    "sns.countplot(x='MaxTemp',data=climate)"
   ]
  },
  {
   "cell_type": "code",
   "execution_count": 29,
   "id": "arctic-mistake",
   "metadata": {
    "execution": {
     "iopub.execute_input": "2021-06-14T05:16:02.349616Z",
     "iopub.status.busy": "2021-06-14T05:16:02.348990Z",
     "iopub.status.idle": "2021-06-14T05:16:04.183137Z",
     "shell.execute_reply": "2021-06-14T05:16:04.182570Z",
     "shell.execute_reply.started": "2021-06-08T04:49:50.885261Z"
    },
    "papermill": {
     "duration": 1.863227,
     "end_time": "2021-06-14T05:16:04.183270",
     "exception": false,
     "start_time": "2021-06-14T05:16:02.320043",
     "status": "completed"
    },
    "tags": []
   },
   "outputs": [
    {
     "data": {
      "text/plain": [
       "<AxesSubplot:xlabel='MinTemp', ylabel='count'>"
      ]
     },
     "execution_count": 29,
     "metadata": {},
     "output_type": "execute_result"
    },
    {
     "data": {
      "image/png": "[encoded data removed]",
      "text/plain": [
       "<Figure size 432x288 with 1 Axes>"
      ]
     },
     "metadata": {
      "needs_background": "light"
     },
     "output_type": "display_data"
    }
   ],
   "source": [
    "sns.countplot(x='MinTemp',data=climate)"
   ]
  },
  {
   "cell_type": "code",
   "execution_count": 30,
   "id": "chief-dallas",
   "metadata": {
    "execution": {
     "iopub.execute_input": "2021-06-14T05:16:04.238914Z",
     "iopub.status.busy": "2021-06-14T05:16:04.238361Z",
     "iopub.status.idle": "2021-06-14T05:16:04.436186Z",
     "shell.execute_reply": "2021-06-14T05:16:04.435615Z",
     "shell.execute_reply.started": "2021-06-08T04:50:02.916637Z"
    },
    "papermill": {
     "duration": 0.227609,
     "end_time": "2021-06-14T05:16:04.436332",
     "exception": false,
     "start_time": "2021-06-14T05:16:04.208723",
     "status": "completed"
    },
    "tags": []
   },
   "outputs": [
    {
     "name": "stderr",
     "output_type": "stream",
     "text": [
      "C:\\Users\\HP\\anaconda3\\lib\\site-packages\\seaborn\\distributions.py:2619: FutureWarning: `distplot` is a deprecated function and will be removed in a future version. Please adapt your code to use either `displot` (a figure-level function with similar flexibility) or `histplot` (an axes-level function for histograms).\n",
      "  warnings.warn(msg, FutureWarning)\n"
     ]
    },
    {
     "data": {
      "text/plain": [
       "<AxesSubplot:xlabel='MinTemp'>"
      ]
     },
     "execution_count": 30,
     "metadata": {},
     "output_type": "execute_result"
    },
    {
     "data": {
      "image/png": "[encoded data removed]",
      "text/plain": [
       "<Figure size 432x288 with 1 Axes>"
      ]
     },
     "metadata": {
      "needs_background": "light"
     },
     "output_type": "display_data"
    }
   ],
   "source": [
    "sns.distplot(climate['MinTemp'],kde = False)"
   ]
  },
  {
   "cell_type": "code",
   "execution_count": 31,
   "id": "wrapped-playing",
   "metadata": {
    "execution": {
     "iopub.execute_input": "2021-06-14T05:16:04.913850Z",
     "iopub.status.busy": "2021-06-14T05:16:04.909715Z",
     "iopub.status.idle": "2021-06-14T05:16:05.742849Z",
     "shell.execute_reply": "2021-06-14T05:16:05.742065Z",
     "shell.execute_reply.started": "2021-06-08T04:50:14.151904Z"
    },
    "papermill": {
     "duration": 0.876302,
     "end_time": "2021-06-14T05:16:05.743063",
     "exception": false,
     "start_time": "2021-06-14T05:16:04.866761",
     "status": "completed"
    },
    "tags": []
   },
   "outputs": [
    {
     "data": {
      "text/plain": [
       "<AxesSubplot:xlabel='MaxTemp', ylabel='Density'>"
      ]
     },
     "execution_count": 31,
     "metadata": {},
     "output_type": "execute_result"
    },
    {
     "data": {
      "image/png": "[encoded data removed]",
      "text/plain": [
       "<Figure size 432x288 with 1 Axes>"
      ]
     },
     "metadata": {
      "needs_background": "light"
     },
     "output_type": "display_data"
    }
   ],
   "source": [
    "sns.distplot(climate['MaxTemp'])"
   ]
  },
  {
   "cell_type": "code",
   "execution_count": 32,
   "id": "dcb2b061",
   "metadata": {},
   "outputs": [],
   "source": [
    "y =climate['MaxTemp'].values"
   ]
  },
  {
   "cell_type": "code",
   "execution_count": 33,
   "id": "298219de",
   "metadata": {},
   "outputs": [],
   "source": [
    "X = climate.loc[:, climate.columns != 'MaxTemp'].values"
   ]
  },
  {
   "cell_type": "markdown",
   "id": "forbidden-calgary",
   "metadata": {
    "papermill": {
     "duration": 0.027502,
     "end_time": "2021-06-14T05:16:06.033732",
     "exception": false,
     "start_time": "2021-06-14T05:16:06.006230",
     "status": "completed"
    },
    "tags": []
   },
   "source": [
    "## Splitting the dataset into train and test"
   ]
  },
  {
   "cell_type": "code",
   "execution_count": 34,
   "id": "presidential-florence",
   "metadata": {
    "execution": {
     "iopub.execute_input": "2021-06-14T05:16:06.094999Z",
     "iopub.status.busy": "2021-06-14T05:16:06.094264Z",
     "iopub.status.idle": "2021-06-14T05:16:06.281263Z",
     "shell.execute_reply": "2021-06-14T05:16:06.280768Z",
     "shell.execute_reply.started": "2021-06-08T04:51:04.916298Z"
    },
    "papermill": {
     "duration": 0.219893,
     "end_time": "2021-06-14T05:16:06.281411",
     "exception": false,
     "start_time": "2021-06-14T05:16:06.061518",
     "status": "completed"
    },
    "tags": []
   },
   "outputs": [],
   "source": [
    "from sklearn.model_selection import train_test_split\n",
    "X_train,X_test,y_train,y_test =train_test_split(X,y,test_size =0.2,random_state=0)"
   ]
  },
  {
   "cell_type": "markdown",
   "id": "limiting-validity",
   "metadata": {
    "papermill": {
     "duration": 0.027493,
     "end_time": "2021-06-14T05:16:06.336904",
     "exception": false,
     "start_time": "2021-06-14T05:16:06.309411",
     "status": "completed"
    },
    "tags": []
   },
   "source": [
    "###  Importing linear regression model from sklearn  to train the simple regression model"
   ]
  },
  {
   "cell_type": "code",
   "execution_count": 35,
   "id": "delayed-witch",
   "metadata": {
    "execution": {
     "iopub.execute_input": "2021-06-14T05:16:06.398769Z",
     "iopub.status.busy": "2021-06-14T05:16:06.398036Z",
     "iopub.status.idle": "2021-06-14T05:16:06.496211Z",
     "shell.execute_reply": "2021-06-14T05:16:06.496685Z",
     "shell.execute_reply.started": "2021-06-08T04:51:12.300834Z"
    },
    "papermill": {
     "duration": 0.129967,
     "end_time": "2021-06-14T05:16:06.496850",
     "exception": false,
     "start_time": "2021-06-14T05:16:06.366883",
     "status": "completed"
    },
    "tags": []
   },
   "outputs": [
    {
     "data": {
      "text/html": [
       "<style>#sk-container-id-1 {color: black;background-color: white;}#sk-container-id-1 pre{padding: 0;}#sk-container-id-1 div.sk-toggleable {background-color: white;}#sk-container-id-1 label.sk-toggleable__label {cursor: pointer;display: block;width: 100%;margin-bottom: 0;padding: 0.3em;box-sizing: border-box;text-align: center;}#sk-container-id-1 label.sk-toggleable__label-arrow:before {content: \"▸\";float: left;margin-right: 0.25em;color: #696969;}#sk-container-id-1 label.sk-toggleable__label-arrow:hover:before {color: black;}#sk-container-id-1 div.sk-estimator:hover label.sk-toggleable__label-arrow:before {color: black;}#sk-container-id-1 div.sk-toggleable__content {max-height: 0;max-width: 0;overflow: hidden;text-align: left;background-color: #f0f8ff;}#sk-container-id-1 div.sk-toggleable__content pre {margin: 0.2em;color: black;border-radius: 0.25em;background-color: #f0f8ff;}#sk-container-id-1 input.sk-toggleable__control:checked~div.sk-toggleable__content {max-height: 200px;max-width: 100%;overflow: auto;}#sk-container-id-1 input.sk-toggleable__control:checked~label.sk-toggleable__label-arrow:before {content: \"▾\";}#sk-container-id-1 div.sk-estimator input.sk-toggleable__control:checked~label.sk-toggleable__label {background-color: #d4ebff;}#sk-container-id-1 div.sk-label input.sk-toggleable__control:checked~label.sk-toggleable__label {background-color: #d4ebff;}#sk-container-id-1 input.sk-hidden--visually {border: 0;clip: rect(1px 1px 1px 1px);clip: rect(1px, 1px, 1px, 1px);height: 1px;margin: -1px;overflow: hidden;padding: 0;position: absolute;width: 1px;}#sk-container-id-1 div.sk-estimator {font-family: monospace;background-color: #f0f8ff;border: 1px dotted black;border-radius: 0.25em;box-sizing: border-box;margin-bottom: 0.5em;}#sk-container-id-1 div.sk-estimator:hover {background-color: #d4ebff;}#sk-container-id-1 div.sk-parallel-item::after {content: \"\";width: 100%;border-bottom: 1px solid gray;flex-grow: 1;}#sk-container-id-1 div.sk-label:hover label.sk-toggleable__label {background-color: #d4ebff;}#sk-container-id-1 div.sk-serial::before {content: \"\";position: absolute;border-left: 1px solid gray;box-sizing: border-box;top: 0;bottom: 0;left: 50%;z-index: 0;}#sk-container-id-1 div.sk-serial {display: flex;flex-direction: column;align-items: center;background-color: white;padding-right: 0.2em;padding-left: 0.2em;position: relative;}#sk-container-id-1 div.sk-item {position: relative;z-index: 1;}#sk-container-id-1 div.sk-parallel {display: flex;align-items: stretch;justify-content: center;background-color: white;position: relative;}#sk-container-id-1 div.sk-item::before, #sk-container-id-1 div.sk-parallel-item::before {content: \"\";position: absolute;border-left: 1px solid gray;box-sizing: border-box;top: 0;bottom: 0;left: 50%;z-index: -1;}#sk-container-id-1 div.sk-parallel-item {display: flex;flex-direction: column;z-index: 1;position: relative;background-color: white;}#sk-container-id-1 div.sk-parallel-item:first-child::after {align-self: flex-end;width: 50%;}#sk-container-id-1 div.sk-parallel-item:last-child::after {align-self: flex-start;width: 50%;}#sk-container-id-1 div.sk-parallel-item:only-child::after {width: 0;}#sk-container-id-1 div.sk-dashed-wrapped {border: 1px dashed gray;margin: 0 0.4em 0.5em 0.4em;box-sizing: border-box;padding-bottom: 0.4em;background-color: white;}#sk-container-id-1 div.sk-label label {font-family: monospace;font-weight: bold;display: inline-block;line-height: 1.2em;}#sk-container-id-1 div.sk-label-container {text-align: center;}#sk-container-id-1 div.sk-container {/* jupyter's `normalize.less` sets `[hidden] { display: none; }` but bootstrap.min.css set `[hidden] { display: none !important; }` so we also need the `!important` here to be able to override the default hidden behavior on the sphinx rendered scikit-learn.org. See: https://github.com/scikit-learn/scikit-learn/issues/21755 */display: inline-block !important;position: relative;}#sk-container-id-1 div.sk-text-repr-fallback {display: none;}</style><div id=\"sk-container-id-1\" class=\"sk-top-container\"><div class=\"sk-text-repr-fallback\"><pre>LinearRegression()</pre><b>In a Jupyter environment, please rerun this cell to show the HTML representation or trust the notebook. <br />On GitHub, the HTML representation is unable to render, please try loading this page with nbviewer.org.</b></div><div class=\"sk-container\" hidden><div class=\"sk-item\"><div class=\"sk-estimator sk-toggleable\"><input class=\"sk-toggleable__control sk-hidden--visually\" id=\"sk-estimator-id-1\" type=\"checkbox\" checked><label for=\"sk-estimator-id-1\" class=\"sk-toggleable__label sk-toggleable__label-arrow\">LinearRegression</label><div class=\"sk-toggleable__content\"><pre>LinearRegression()</pre></div></div></div></div></div>"
      ],
      "text/plain": [
       "LinearRegression()"
      ]
     },
     "execution_count": 35,
     "metadata": {},
     "output_type": "execute_result"
    }
   ],
   "source": [
    "from sklearn.linear_model import LinearRegression\n",
    "regressor = LinearRegression()\n",
    "regressor.fit(X_train,y_train)"
   ]
  },
  {
   "cell_type": "markdown",
   "id": "ecological-frank",
   "metadata": {
    "papermill": {
     "duration": 0.027911,
     "end_time": "2021-06-14T05:16:06.553116",
     "exception": false,
     "start_time": "2021-06-14T05:16:06.525205",
     "status": "completed"
    },
    "tags": []
   },
   "source": [
    "### Prediction of  the  results"
   ]
  },
  {
   "cell_type": "code",
   "execution_count": 36,
   "id": "isolated-stevens",
   "metadata": {
    "execution": {
     "iopub.execute_input": "2021-06-14T05:16:06.613661Z",
     "iopub.status.busy": "2021-06-14T05:16:06.613035Z",
     "iopub.status.idle": "2021-06-14T05:16:06.617789Z",
     "shell.execute_reply": "2021-06-14T05:16:06.617349Z",
     "shell.execute_reply.started": "2021-06-08T04:51:17.015744Z"
    },
    "papermill": {
     "duration": 0.036862,
     "end_time": "2021-06-14T05:16:06.617914",
     "exception": false,
     "start_time": "2021-06-14T05:16:06.581052",
     "status": "completed"
    },
    "tags": []
   },
   "outputs": [
    {
     "name": "stdout",
     "output_type": "stream",
     "text": [
      "[29.6479114  31.04667843 27.19895687 ... 31.70771919 31.59209515\n",
      " 36.83701687]\n"
     ]
    }
   ],
   "source": [
    "y_pred= regressor.predict(X_test)\n",
    "print(y_pred)"
   ]
  },
  {
   "cell_type": "markdown",
   "id": "spanish-burns",
   "metadata": {
    "papermill": {
     "duration": 0.028018,
     "end_time": "2021-06-14T05:16:06.674194",
     "exception": false,
     "start_time": "2021-06-14T05:16:06.646176",
     "status": "completed"
    },
    "tags": []
   },
   "source": [
    "## Accuracy score"
   ]
  },
  {
   "cell_type": "code",
   "execution_count": 37,
   "id": "pleased-replacement",
   "metadata": {
    "execution": {
     "iopub.execute_input": "2021-06-14T05:16:06.735792Z",
     "iopub.status.busy": "2021-06-14T05:16:06.734925Z",
     "iopub.status.idle": "2021-06-14T05:16:06.740359Z",
     "shell.execute_reply": "2021-06-14T05:16:06.740852Z",
     "shell.execute_reply.started": "2021-06-08T04:51:23.705376Z"
    },
    "papermill": {
     "duration": 0.03857,
     "end_time": "2021-06-14T05:16:06.741008",
     "exception": false,
     "start_time": "2021-06-14T05:16:06.702438",
     "status": "completed"
    },
    "tags": []
   },
   "outputs": [
    {
     "data": {
      "text/plain": [
       "0.9879548437764439"
      ]
     },
     "execution_count": 37,
     "metadata": {},
     "output_type": "execute_result"
    }
   ],
   "source": [
    "from sklearn.metrics import r2_score\n",
    "r2_score(y_pred,y_test)"
   ]
  },
  {
   "cell_type": "markdown",
   "id": "6b26002e",
   "metadata": {},
   "source": [
    "## KNN"
   ]
  },
  {
   "cell_type": "code",
   "execution_count": 40,
   "id": "2f9a86bf",
   "metadata": {},
   "outputs": [],
   "source": [
    "from sklearn import neighbors\n",
    "model = neighbors.KNeighborsRegressor(n_neighbors = 3)"
   ]
  },
  {
   "cell_type": "markdown",
   "id": "4e861546",
   "metadata": {},
   "source": [
    "### Test Train Split"
   ]
  },
  {
   "cell_type": "code",
   "execution_count": 48,
   "id": "bbb96b9f",
   "metadata": {},
   "outputs": [
    {
     "data": {
      "text/html": [
       "<style>#sk-container-id-3 {color: black;background-color: white;}#sk-container-id-3 pre{padding: 0;}#sk-container-id-3 div.sk-toggleable {background-color: white;}#sk-container-id-3 label.sk-toggleable__label {cursor: pointer;display: block;width: 100%;margin-bottom: 0;padding: 0.3em;box-sizing: border-box;text-align: center;}#sk-container-id-3 label.sk-toggleable__label-arrow:before {content: \"▸\";float: left;margin-right: 0.25em;color: #696969;}#sk-container-id-3 label.sk-toggleable__label-arrow:hover:before {color: black;}#sk-container-id-3 div.sk-estimator:hover label.sk-toggleable__label-arrow:before {color: black;}#sk-container-id-3 div.sk-toggleable__content {max-height: 0;max-width: 0;overflow: hidden;text-align: left;background-color: #f0f8ff;}#sk-container-id-3 div.sk-toggleable__content pre {margin: 0.2em;color: black;border-radius: 0.25em;background-color: #f0f8ff;}#sk-container-id-3 input.sk-toggleable__control:checked~div.sk-toggleable__content {max-height: 200px;max-width: 100%;overflow: auto;}#sk-container-id-3 input.sk-toggleable__control:checked~label.sk-toggleable__label-arrow:before {content: \"▾\";}#sk-container-id-3 div.sk-estimator input.sk-toggleable__control:checked~label.sk-toggleable__label {background-color: #d4ebff;}#sk-container-id-3 div.sk-label input.sk-toggleable__control:checked~label.sk-toggleable__label {background-color: #d4ebff;}#sk-container-id-3 input.sk-hidden--visually {border: 0;clip: rect(1px 1px 1px 1px);clip: rect(1px, 1px, 1px, 1px);height: 1px;margin: -1px;overflow: hidden;padding: 0;position: absolute;width: 1px;}#sk-container-id-3 div.sk-estimator {font-family: monospace;background-color: #f0f8ff;border: 1px dotted black;border-radius: 0.25em;box-sizing: border-box;margin-bottom: 0.5em;}#sk-container-id-3 div.sk-estimator:hover {background-color: #d4ebff;}#sk-container-id-3 div.sk-parallel-item::after {content: \"\";width: 100%;border-bottom: 1px solid gray;flex-grow: 1;}#sk-container-id-3 div.sk-label:hover label.sk-toggleable__label {background-color: #d4ebff;}#sk-container-id-3 div.sk-serial::before {content: \"\";position: absolute;border-left: 1px solid gray;box-sizing: border-box;top: 0;bottom: 0;left: 50%;z-index: 0;}#sk-container-id-3 div.sk-serial {display: flex;flex-direction: column;align-items: center;background-color: white;padding-right: 0.2em;padding-left: 0.2em;position: relative;}#sk-container-id-3 div.sk-item {position: relative;z-index: 1;}#sk-container-id-3 div.sk-parallel {display: flex;align-items: stretch;justify-content: center;background-color: white;position: relative;}#sk-container-id-3 div.sk-item::before, #sk-container-id-3 div.sk-parallel-item::before {content: \"\";position: absolute;border-left: 1px solid gray;box-sizing: border-box;top: 0;bottom: 0;left: 50%;z-index: -1;}#sk-container-id-3 div.sk-parallel-item {display: flex;flex-direction: column;z-index: 1;position: relative;background-color: white;}#sk-container-id-3 div.sk-parallel-item:first-child::after {align-self: flex-end;width: 50%;}#sk-container-id-3 div.sk-parallel-item:last-child::after {align-self: flex-start;width: 50%;}#sk-container-id-3 div.sk-parallel-item:only-child::after {width: 0;}#sk-container-id-3 div.sk-dashed-wrapped {border: 1px dashed gray;margin: 0 0.4em 0.5em 0.4em;box-sizing: border-box;padding-bottom: 0.4em;background-color: white;}#sk-container-id-3 div.sk-label label {font-family: monospace;font-weight: bold;display: inline-block;line-height: 1.2em;}#sk-container-id-3 div.sk-label-container {text-align: center;}#sk-container-id-3 div.sk-container {/* jupyter's `normalize.less` sets `[hidden] { display: none; }` but bootstrap.min.css set `[hidden] { display: none !important; }` so we also need the `!important` here to be able to override the default hidden behavior on the sphinx rendered scikit-learn.org. See: https://github.com/scikit-learn/scikit-learn/issues/21755 */display: inline-block !important;position: relative;}#sk-container-id-3 div.sk-text-repr-fallback {display: none;}</style><div id=\"sk-container-id-3\" class=\"sk-top-container\"><div class=\"sk-text-repr-fallback\"><pre>KNeighborsRegressor(n_neighbors=3)</pre><b>In a Jupyter environment, please rerun this cell to show the HTML representation or trust the notebook. <br />On GitHub, the HTML representation is unable to render, please try loading this page with nbviewer.org.</b></div><div class=\"sk-container\" hidden><div class=\"sk-item\"><div class=\"sk-estimator sk-toggleable\"><input class=\"sk-toggleable__control sk-hidden--visually\" id=\"sk-estimator-id-3\" type=\"checkbox\" checked><label for=\"sk-estimator-id-3\" class=\"sk-toggleable__label sk-toggleable__label-arrow\">KNeighborsRegressor</label><div class=\"sk-toggleable__content\"><pre>KNeighborsRegressor(n_neighbors=3)</pre></div></div></div></div></div>"
      ],
      "text/plain": [
       "KNeighborsRegressor(n_neighbors=3)"
      ]
     },
     "execution_count": 48,
     "metadata": {},
     "output_type": "execute_result"
    }
   ],
   "source": [
    "X_train,X_test,y_train,y_test =train_test_split(X,y,test_size =0.5,random_state=0)\n",
    "model.fit(X_train, y_train)"
   ]
  },
  {
   "cell_type": "markdown",
   "id": "a12b2919",
   "metadata": {},
   "source": [
    "### Prediction"
   ]
  },
  {
   "cell_type": "code",
   "execution_count": 50,
   "id": "bb4492c9",
   "metadata": {},
   "outputs": [],
   "source": [
    "pred = model.predict(X_test)"
   ]
  },
  {
   "cell_type": "markdown",
   "id": "4773a940",
   "metadata": {},
   "source": [
    "### Score"
   ]
  },
  {
   "cell_type": "code",
   "execution_count": 51,
   "id": "e8cba09c",
   "metadata": {},
   "outputs": [
    {
     "data": {
      "text/plain": [
       "0.958387640735383"
      ]
     },
     "execution_count": 51,
     "metadata": {},
     "output_type": "execute_result"
    }
   ],
   "source": [
    "r2_score(pred,y_test)"
   ]
  },
  {
   "cell_type": "markdown",
   "id": "85afc474",
   "metadata": {},
   "source": [
    "## Gradient Boosting Regressor"
   ]
  },
  {
   "cell_type": "code",
   "execution_count": 52,
   "id": "89031b25",
   "metadata": {},
   "outputs": [],
   "source": [
    "from sklearn.ensemble import GradientBoostingRegressor\n",
    "gbr = GradientBoostingRegressor()"
   ]
  },
  {
   "cell_type": "markdown",
   "id": "45ec4930",
   "metadata": {},
   "source": [
    "## Train Test spilt"
   ]
  },
  {
   "cell_type": "code",
   "execution_count": 55,
   "id": "cbc554cd",
   "metadata": {},
   "outputs": [
    {
     "data": {
      "text/html": [
       "<style>#sk-container-id-4 {color: black;background-color: white;}#sk-container-id-4 pre{padding: 0;}#sk-container-id-4 div.sk-toggleable {background-color: white;}#sk-container-id-4 label.sk-toggleable__label {cursor: pointer;display: block;width: 100%;margin-bottom: 0;padding: 0.3em;box-sizing: border-box;text-align: center;}#sk-container-id-4 label.sk-toggleable__label-arrow:before {content: \"▸\";float: left;margin-right: 0.25em;color: #696969;}#sk-container-id-4 label.sk-toggleable__label-arrow:hover:before {color: black;}#sk-container-id-4 div.sk-estimator:hover label.sk-toggleable__label-arrow:before {color: black;}#sk-container-id-4 div.sk-toggleable__content {max-height: 0;max-width: 0;overflow: hidden;text-align: left;background-color: #f0f8ff;}#sk-container-id-4 div.sk-toggleable__content pre {margin: 0.2em;color: black;border-radius: 0.25em;background-color: #f0f8ff;}#sk-container-id-4 input.sk-toggleable__control:checked~div.sk-toggleable__content {max-height: 200px;max-width: 100%;overflow: auto;}#sk-container-id-4 input.sk-toggleable__control:checked~label.sk-toggleable__label-arrow:before {content: \"▾\";}#sk-container-id-4 div.sk-estimator input.sk-toggleable__control:checked~label.sk-toggleable__label {background-color: #d4ebff;}#sk-container-id-4 div.sk-label input.sk-toggleable__control:checked~label.sk-toggleable__label {background-color: #d4ebff;}#sk-container-id-4 input.sk-hidden--visually {border: 0;clip: rect(1px 1px 1px 1px);clip: rect(1px, 1px, 1px, 1px);height: 1px;margin: -1px;overflow: hidden;padding: 0;position: absolute;width: 1px;}#sk-container-id-4 div.sk-estimator {font-family: monospace;background-color: #f0f8ff;border: 1px dotted black;border-radius: 0.25em;box-sizing: border-box;margin-bottom: 0.5em;}#sk-container-id-4 div.sk-estimator:hover {background-color: #d4ebff;}#sk-container-id-4 div.sk-parallel-item::after {content: \"\";width: 100%;border-bottom: 1px solid gray;flex-grow: 1;}#sk-container-id-4 div.sk-label:hover label.sk-toggleable__label {background-color: #d4ebff;}#sk-container-id-4 div.sk-serial::before {content: \"\";position: absolute;border-left: 1px solid gray;box-sizing: border-box;top: 0;bottom: 0;left: 50%;z-index: 0;}#sk-container-id-4 div.sk-serial {display: flex;flex-direction: column;align-items: center;background-color: white;padding-right: 0.2em;padding-left: 0.2em;position: relative;}#sk-container-id-4 div.sk-item {position: relative;z-index: 1;}#sk-container-id-4 div.sk-parallel {display: flex;align-items: stretch;justify-content: center;background-color: white;position: relative;}#sk-container-id-4 div.sk-item::before, #sk-container-id-4 div.sk-parallel-item::before {content: \"\";position: absolute;border-left: 1px solid gray;box-sizing: border-box;top: 0;bottom: 0;left: 50%;z-index: -1;}#sk-container-id-4 div.sk-parallel-item {display: flex;flex-direction: column;z-index: 1;position: relative;background-color: white;}#sk-container-id-4 div.sk-parallel-item:first-child::after {align-self: flex-end;width: 50%;}#sk-container-id-4 div.sk-parallel-item:last-child::after {align-self: flex-start;width: 50%;}#sk-container-id-4 div.sk-parallel-item:only-child::after {width: 0;}#sk-container-id-4 div.sk-dashed-wrapped {border: 1px dashed gray;margin: 0 0.4em 0.5em 0.4em;box-sizing: border-box;padding-bottom: 0.4em;background-color: white;}#sk-container-id-4 div.sk-label label {font-family: monospace;font-weight: bold;display: inline-block;line-height: 1.2em;}#sk-container-id-4 div.sk-label-container {text-align: center;}#sk-container-id-4 div.sk-container {/* jupyter's `normalize.less` sets `[hidden] { display: none; }` but bootstrap.min.css set `[hidden] { display: none !important; }` so we also need the `!important` here to be able to override the default hidden behavior on the sphinx rendered scikit-learn.org. See: https://github.com/scikit-learn/scikit-learn/issues/21755 */display: inline-block !important;position: relative;}#sk-container-id-4 div.sk-text-repr-fallback {display: none;}</style><div id=\"sk-container-id-4\" class=\"sk-top-container\"><div class=\"sk-text-repr-fallback\"><pre>GradientBoostingRegressor()</pre><b>In a Jupyter environment, please rerun this cell to show the HTML representation or trust the notebook. <br />On GitHub, the HTML representation is unable to render, please try loading this page with nbviewer.org.</b></div><div class=\"sk-container\" hidden><div class=\"sk-item\"><div class=\"sk-estimator sk-toggleable\"><input class=\"sk-toggleable__control sk-hidden--visually\" id=\"sk-estimator-id-4\" type=\"checkbox\" checked><label for=\"sk-estimator-id-4\" class=\"sk-toggleable__label sk-toggleable__label-arrow\">GradientBoostingRegressor</label><div class=\"sk-toggleable__content\"><pre>GradientBoostingRegressor()</pre></div></div></div></div></div>"
      ],
      "text/plain": [
       "GradientBoostingRegressor()"
      ]
     },
     "execution_count": 55,
     "metadata": {},
     "output_type": "execute_result"
    }
   ],
   "source": [
    "X_train,X_test,y_train,y_test =train_test_split(X,y,test_size = 3,random_state=0)\n",
    "gbr.fit(X_train, y_train)"
   ]
  },
  {
   "cell_type": "markdown",
   "id": "cb3b0bad",
   "metadata": {},
   "source": [
    "## Prediction"
   ]
  },
  {
   "cell_type": "code",
   "execution_count": 57,
   "id": "6f3abe2b",
   "metadata": {},
   "outputs": [],
   "source": [
    "grb_pred = gbr.predict(X_test)"
   ]
  },
  {
   "cell_type": "markdown",
   "id": "0f1d3b00",
   "metadata": {},
   "source": [
    "### Score"
   ]
  },
  {
   "cell_type": "code",
   "execution_count": 59,
   "id": "34c8bc82",
   "metadata": {},
   "outputs": [
    {
     "data": {
      "text/plain": [
       "0.8697418457175728"
      ]
     },
     "execution_count": 59,
     "metadata": {},
     "output_type": "execute_result"
    }
   ],
   "source": [
    "r2_score(grb_pred,y_test)"
   ]
  },
  {
   "cell_type": "code",
   "execution_count": null,
   "id": "bbb5c7de",
   "metadata": {},
   "outputs": [],
   "source": []
  }
 ],
 "metadata": {
  "kernelspec": {
   "display_name": "Python 3 (ipykernel)",
   "language": "python",
   "name": "python3"
  },
  "language_info": {
   "codemirror_mode": {
    "name": "ipython",
    "version": 3
   },
   "file_extension": ".py",
   "mimetype": "text/x-python",
   "name": "python",
   "nbconvert_exporter": "python",
   "pygments_lexer": "ipython3",
   "version": "3.9.7"
  },
  "papermill": {
   "default_parameters": {},
   "duration": 39.778373,
   "end_time": "2021-06-14T05:16:08.090761",
   "environment_variables": {},
   "exception": null,
   "input_path": "__notebook__.ipynb",
   "output_path": "__notebook__.ipynb",
   "parameters": {},
   "start_time": "2021-06-14T05:15:28.312388",
   "version": "2.3.3"
  },
  "vscode": {
   "interpreter": {
    "hash": "25e3bfc61afaa8e9a03d7dcd822957392a7b3528560f7db9ecaedb9758a96bdf"
   }
  }
 },
 "nbformat": 4,
 "nbformat_minor": 5
}
